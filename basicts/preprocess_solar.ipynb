{
 "cells": [
  {
   "cell_type": "code",
   "id": "initial_id",
   "metadata": {
    "collapsed": true,
    "ExecuteTime": {
     "end_time": "2025-04-07T04:04:02.693407Z",
     "start_time": "2025-04-07T04:03:59.692232Z"
    }
   },
   "source": [
    "import os\n",
    "import numpy as np\n",
    "# 这个文件的目的是对solar数据集进行预处理\n",
    "\n",
    "solar_raw_path = \"/data/hanzhi/solar_AL.txt\"\n",
    "lines = open(solar_raw_path, 'r').readlines()\n",
    "\n",
    "# note 先把原始数据读取出来\n",
    "# (count_timestamps, sensors)\n",
    "data = []\n",
    "for line in lines:\n",
    "    readings = line.split(\",\")\n",
    "    reading = [float(i) for i in readings]\n",
    "    data.append(reading)\n",
    "\n",
    "data = np.array(data, dtype=np.float32)\n",
    "print(data.shape, data[50], np.mean(data), np.std(data), np.min(data), np.max(data))\n",
    "\n",
    "# note 再增加time of day的嵌入\n",
    "tod = np.arange(144, dtype=np.float32)\n",
    "tod /= 144\n",
    "# (144) -> (ts) -> (ts, 1) -> (ts, sensors)\n",
    "tod = np.tile(tod, data.shape[0]//144)[:, np.newaxis]\n",
    "tod = np.tile(tod, (1, data.shape[1]))\n",
    "# (ts, sensors, 2)\n",
    "final_data = np.stack([data, tod], axis=-1)\n",
    "# note 再保存到磁盘上\n",
    "output_dir = \"/data3/hanzhi/BasicTS/datasets/Solar\"\n",
    "os.makedirs(output_dir, exist_ok=True)\n",
    "written_data = np.memmap(os.path.join(output_dir, \"data.dat\"), mode=\"write\", shape=final_data.shape, dtype=final_data.dtype)\n",
    "written_data[:] = final_data\n",
    "written_data.flush()"
   ],
   "outputs": [
    {
     "name": "stdout",
     "output_type": "stream",
     "text": [
      "(52560, 137) [ 5.1   6.9   7.45  4.35  0.65 19.35  8.55  7.55  2.4   7.9   4.6   1.6\n",
      "  1.6   7.45  4.65  8.15  8.3   2.75  4.35  5.5   4.85  9.1  13.    0.7\n",
      "  0.4   4.3   6.9   4.2   9.    1.2   5.4   0.8   0.6   1.65  4.15  7.5\n",
      "  1.45  4.65  8.05  8.   27.55  3.4   9.2   5.6  16.6   6.    5.65  6.65\n",
      "  4.75  8.3   5.1   5.25  0.25  4.75  6.55  6.3   5.85  8.35  7.    6.05\n",
      "  2.75  8.    4.8   4.3   9.8   5.9   8.4   5.   21.45  4.65  0.3   5.95\n",
      "  6.85  0.45  0.5   5.8   2.8   2.95  5.6   7.45  5.55  7.85  0.    7.25\n",
      "  5.9   6.1   2.5   6.25  6.    6.05  4.8   8.4   6.    6.75  2.9   5.05\n",
      "  2.15  3.3   7.6   4.25  6.25  6.25  7.05  6.5   6.4   0.4   7.25  4.35\n",
      "  4.3   5.95  9.3   2.6   3.5   4.    0.15  0.    4.65  5.9   7.95  5.9\n",
      "  1.75 24.6   0.55  3.55 16.7   0.2   1.55  4.6   4.65  1.15  0.35  8.3\n",
      "  7.15  6.1   5.9  12.05 12.85] 6.3526506 10.15121 0.0 88.9\n"
     ]
    }
   ],
   "execution_count": 18
  },
  {
   "metadata": {},
   "cell_type": "code",
   "outputs": [],
   "execution_count": null,
   "source": "",
   "id": "dd384ce261426d"
  }
 ],
 "metadata": {
  "kernelspec": {
   "display_name": "Python 3",
   "language": "python",
   "name": "python3"
  },
  "language_info": {
   "codemirror_mode": {
    "name": "ipython",
    "version": 2
   },
   "file_extension": ".py",
   "mimetype": "text/x-python",
   "name": "python",
   "nbconvert_exporter": "python",
   "pygments_lexer": "ipython2",
   "version": "2.7.6"
  }
 },
 "nbformat": 4,
 "nbformat_minor": 5
}
