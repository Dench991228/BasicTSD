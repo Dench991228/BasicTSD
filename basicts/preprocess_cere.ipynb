{
 "cells": [
  {
   "cell_type": "code",
   "execution_count": null,
   "id": "initial_id",
   "metadata": {
    "collapsed": true
   },
   "outputs": [],
   "source": [
    "import numpy as np\n",
    "\n",
    "# note 先利用pandas读取csv数据，过滤掉没什么用的ID\n",
    "# 需要注意的是，SME的Code是2\n",
    "\n",
    "\n",
    "# note 依次读取files，过滤掉不属于上面的id的内容，得到{id: [(timestamp, value)]}\n",
    "\n",
    "# note 再对上面的时间步进行排序，得到各个时间序列，到这一步应该有485条时间序列\n",
    "\n",
    "# note 将这些时间序列保存下来\n",
    "\n",
    "# note 计算每一条时间序列的周循环\n",
    "\n",
    "# note 计算每一条时间序列的最近9条时间序列，然后让这些时间序列指向当前的时间序列"
   ]
  }
 ],
 "metadata": {
  "kernelspec": {
   "display_name": "Python 3",
   "language": "python",
   "name": "python3"
  },
  "language_info": {
   "codemirror_mode": {
    "name": "ipython",
    "version": 2
   },
   "file_extension": ".py",
   "mimetype": "text/x-python",
   "name": "python",
   "nbconvert_exporter": "python",
   "pygments_lexer": "ipython2",
   "version": "2.7.6"
  }
 },
 "nbformat": 4,
 "nbformat_minor": 5
}
